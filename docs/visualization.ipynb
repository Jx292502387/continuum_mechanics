{
 "cells": [
  {
   "cell_type": "markdown",
   "metadata": {},
   "source": [
    "# Visualization of tensors"
   ]
  },
  {
   "cell_type": "code",
   "execution_count": null,
   "metadata": {},
   "outputs": [],
   "source": [
    "from sympy import Matrix\n",
    "from continuum_mechanics.visualization import mohr2d, mohr3d, traction_circle"
   ]
  },
  {
   "cell_type": "code",
   "execution_count": null,
   "metadata": {},
   "outputs": [],
   "source": [
    "%matplotlib notebook"
   ]
  },
  {
   "cell_type": "markdown",
   "metadata": {},
   "source": [
    "## Visualization in 2D"
   ]
  },
  {
   "cell_type": "markdown",
   "metadata": {},
   "source": [
    "First, let us visualize the tensor\n",
    "\n",
    "$$\\begin{bmatrix}\n",
    "1 &0\\\\\n",
    "0 &-1\n",
    "\\end{bmatrix}\\, .$$"
   ]
  },
  {
   "cell_type": "code",
   "execution_count": null,
   "metadata": {},
   "outputs": [],
   "source": [
    "mohr2d(Matrix([\n",
    "    [1,0],\n",
    "    [0,-1]]))"
   ]
  },
  {
   "cell_type": "markdown",
   "metadata": {},
   "source": [
    "From the Mohr circle, we can see that the principal directions are given\n",
    "at :math:`0` and :math:`\\pi/2` radians. This can be more easily\n",
    "visualized using the traction circle, where normal vectors are presented\n",
    "in light gray and the traction vectors are presented in colors."
   ]
  },
  {
   "cell_type": "code",
   "execution_count": null,
   "metadata": {},
   "outputs": [],
   "source": [
    "traction_circle(Matrix([\n",
    "    [1,0],\n",
    "    [0,-1]]))"
   ]
  },
  {
   "cell_type": "markdown",
   "metadata": {},
   "source": [
    "Now, let us visualize\n",
    "\n",
    "$$\\begin{bmatrix}\n",
    "1 &3\\\\\n",
    "3 &-5\n",
    "\\end{bmatrix}\\, .$$"
   ]
  },
  {
   "cell_type": "code",
   "execution_count": null,
   "metadata": {},
   "outputs": [],
   "source": [
    "mohr2d(Matrix([\n",
    "    [1, 3],\n",
    "    [3, -5]]))"
   ]
  },
  {
   "cell_type": "code",
   "execution_count": null,
   "metadata": {},
   "outputs": [],
   "source": [
    "traction_circle(Matrix([\n",
    "    [1, 3],\n",
    "    [3, -5]]))"
   ]
  },
  {
   "cell_type": "markdown",
   "metadata": {},
   "source": [
    "Now, let us try it with an asymmetric tensor\n",
    "\n",
    "$$\\begin{bmatrix}\n",
    "1 &2\\\\\n",
    "0 &3\n",
    "\\end{bmatrix}\\, .$$"
   ]
  },
  {
   "cell_type": "code",
   "execution_count": null,
   "metadata": {},
   "outputs": [],
   "source": [
    "mohr2d(Matrix([\n",
    "    [1, 2],\n",
    "    [0, 2]]))"
   ]
  },
  {
   "cell_type": "code",
   "execution_count": null,
   "metadata": {},
   "outputs": [],
   "source": [
    "traction_circle(Matrix([\n",
    "    [1, 2],\n",
    "    [0, 3]]))"
   ]
  },
  {
   "cell_type": "markdown",
   "metadata": {},
   "source": [
    "## Mohr Circle in 3D\n",
    "\n"
   ]
  },
  {
   "cell_type": "markdown",
   "metadata": {},
   "source": [
    "Let us visualize the tensor\n",
    "\n",
    "$$\\begin{bmatrix}\n",
    "1 &2 &4\\\\\n",
    "2 &2 &1\\\\\n",
    "4 &1 &3\n",
    "\\end{bmatrix}\\, .$$"
   ]
  },
  {
   "cell_type": "code",
   "execution_count": null,
   "metadata": {
    "scrolled": true
   },
   "outputs": [],
   "source": [
    "mohr3d(Matrix([\n",
    "    [1, 2, 4],\n",
    "    [2, 2, 1],\n",
    "    [4, 1, 3]]))"
   ]
  },
  {
   "cell_type": "markdown",
   "metadata": {},
   "source": [
    "Now, let us visualize the tensor\n",
    "\n",
    "$$\\begin{bmatrix}\n",
    "1 &0 &0\\\\\n",
    "0 &2 &0\\\\\n",
    "0 &0 &3\n",
    "\\end{bmatrix}\\, .$$"
   ]
  },
  {
   "cell_type": "code",
   "execution_count": null,
   "metadata": {},
   "outputs": [],
   "source": [
    "mohr3d(Matrix([\n",
    "    [1, 0, 0],\n",
    "    [0, 2, 0],\n",
    "    [0, 0, 3]]))"
   ]
  },
  {
   "cell_type": "code",
   "execution_count": null,
   "metadata": {},
   "outputs": [],
   "source": []
  }
 ],
 "metadata": {
  "kernelspec": {
   "display_name": "Python 3.7.6 64-bit ('continuum_mechanics': conda)",
   "language": "python",
   "name": "python37664bitcontinuummechanicsconda6b866601c9a045cc97f9c0f930a19c76"
  },
  "language_info": {
   "codemirror_mode": {
    "name": "ipython",
    "version": 3
   },
   "file_extension": ".py",
   "mimetype": "text/x-python",
   "name": "python",
   "nbconvert_exporter": "python",
   "pygments_lexer": "ipython3",
   "version": "3.7.6"
  },
  "varInspector": {
   "cols": {
    "lenName": 16,
    "lenType": 16,
    "lenVar": 40
   },
   "kernels_config": {
    "python": {
     "delete_cmd_postfix": "",
     "delete_cmd_prefix": "del ",
     "library": "var_list.py",
     "varRefreshCmd": "print(var_dic_list())"
    },
    "r": {
     "delete_cmd_postfix": ") ",
     "delete_cmd_prefix": "rm(",
     "library": "var_list.r",
     "varRefreshCmd": "cat(var_dic_list()) "
    }
   },
   "types_to_exclude": [
    "module",
    "function",
    "builtin_function_or_method",
    "instance",
    "_Feature"
   ],
   "window_display": false
  }
 },
 "nbformat": 4,
 "nbformat_minor": 2
}
